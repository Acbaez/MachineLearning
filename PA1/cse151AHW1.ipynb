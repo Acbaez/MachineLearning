{
 "cells": [
  {
   "cell_type": "markdown",
   "metadata": {},
   "source": [
    "# Imported Libraries"
   ]
  },
  {
   "cell_type": "code",
   "execution_count": 1,
   "metadata": {},
   "outputs": [],
   "source": [
    "# Import necessary libraries\n",
    "import pandas as pd\n",
    "import numpy as np\n",
    "from scipy.spatial import distance\n",
    "from statistics import mode\n",
    "import time"
   ]
  },
  {
   "cell_type": "code",
   "execution_count": 2,
   "metadata": {},
   "outputs": [
    {
     "name": "stdout",
     "output_type": "stream",
     "text": [
      "(2000, 785)\n"
     ]
    }
   ],
   "source": [
    "# Read text file into np array\n",
    "training_data = np.loadtxt('./data/pa1train.txt')\n",
    "training_labels = training_data[:,784]\n",
    "print(training_data.shape)"
   ]
  },
  {
   "cell_type": "code",
   "execution_count": 3,
   "metadata": {},
   "outputs": [
    {
     "name": "stdout",
     "output_type": "stream",
     "text": [
      "(1000, 785)\n"
     ]
    }
   ],
   "source": [
    "# Read text file into np array\n",
    "testing_data = np.loadtxt('./data/pa1test.txt')\n",
    "testing_labels = testing_data[:,784]\n",
    "print(testing_data.shape)"
   ]
  },
  {
   "cell_type": "code",
   "execution_count": 4,
   "metadata": {},
   "outputs": [
    {
     "name": "stdout",
     "output_type": "stream",
     "text": [
      "(1000, 785)\n"
     ]
    }
   ],
   "source": [
    "# Read text files into np array\n",
    "validation_data = np.loadtxt('./data/pa1validate.txt')\n",
    "validation_labels = validation_data[:,784]\n",
    "print(validation_data.shape)"
   ]
  },
  {
   "cell_type": "markdown",
   "metadata": {},
   "source": [
    "# Define KNN Classifier"
   ]
  },
  {
   "cell_type": "code",
   "execution_count": 5,
   "metadata": {},
   "outputs": [],
   "source": [
    "# Define Function for Gathering K Nearest Points\n",
    "def getNeighbors(X_train, X_test, K): \n",
    "    # Dictionary for storing nearest K data points\n",
    "    rows = X_train.shape[0]\n",
    "    cols = (X_train.shape[1] - 1)\n",
    "    labels = []\n",
    "    nearest_neighbors = {}\n",
    "    # Iterate through rows and take euclidean distance\n",
    "    for i in range(rows): \n",
    "        # Take Euclidean Distance of Test Data Point and Each Row Vector\n",
    "        dist = distance.euclidean(X_test[:cols], X_train[i,:cols])\n",
    "        label = X_train[i,cols]\n",
    "        nearest_neighbors[dist] = label\n",
    "    # Sort Dictionary Based on Euclidean Distances\n",
    "    counter = 0\n",
    "    for key in sorted(nearest_neighbors.keys()):\n",
    "        if counter >= K: \n",
    "            # Labels corresponding to nearest K neighbors found, exit\n",
    "            break\n",
    "        labels.append(nearest_neighbors[key])\n",
    "        counter += 1\n",
    "    # Return List of Labels for K nearest data points\n",
    "    return labels"
   ]
  },
  {
   "cell_type": "code",
   "execution_count": 6,
   "metadata": {},
   "outputs": [],
   "source": [
    "# Define Function for Predicting Label \n",
    "def K_nearest_neighbor(X_train, X_test, K): \n",
    "    # Create list for storing predicted labels\n",
    "    Y_labels = getNeighbors(X_train, X_test, K)\n",
    "    # Check if there is a tie between labels\n",
    "    # Take most common label of the KNN\n",
    "    Y_pred = max(Y_labels,key = Y_labels.count)\n",
    "    # Return predicted label \n",
    "    return Y_pred"
   ]
  },
  {
   "cell_type": "code",
   "execution_count": 7,
   "metadata": {},
   "outputs": [],
   "source": [
    "# Define Function for Calculating Error Rate \n",
    "def calc_error(Y_pred, Y_label): \n",
    "    # Calculate Error Rate for Predicted Labels\n",
    "    error = [0 for x,y in zip(Y_pred,Y_label) if x != y]\n",
    "    error_rate = len(error)/len(Y_pred)\n",
    "    return error_rate"
   ]
  },
  {
   "cell_type": "markdown",
   "metadata": {},
   "source": [
    "# Question 1: Calculate Training Error"
   ]
  },
  {
   "cell_type": "code",
   "execution_count": 8,
   "metadata": {},
   "outputs": [
    {
     "data": {
      "text/plain": [
       "(2000, 785)"
      ]
     },
     "execution_count": 8,
     "metadata": {},
     "output_type": "execute_result"
    }
   ],
   "source": [
    "training_data.shape"
   ]
  },
  {
   "cell_type": "code",
   "execution_count": 9,
   "metadata": {},
   "outputs": [
    {
     "data": {
      "text/plain": [
       "(1000, 785)"
      ]
     },
     "execution_count": 9,
     "metadata": {},
     "output_type": "execute_result"
    }
   ],
   "source": [
    "testing_data.shape"
   ]
  },
  {
   "cell_type": "code",
   "execution_count": 10,
   "metadata": {},
   "outputs": [
    {
     "data": {
      "text/plain": [
       "(1000, 785)"
      ]
     },
     "execution_count": 10,
     "metadata": {},
     "output_type": "execute_result"
    }
   ],
   "source": [
    "validation_data.shape"
   ]
  },
  {
   "cell_type": "code",
   "execution_count": 11,
   "metadata": {
    "scrolled": true
   },
   "outputs": [
    {
     "name": "stdout",
     "output_type": "stream",
     "text": [
      "Time Elapsed:  288.2392728328705\n",
      "{1: 0.0, 5: 0.0485, 9: 0.0625, 15: 0.0845}\n"
     ]
    }
   ],
   "source": [
    "# Training Data with K = 1,5,9,15\n",
    "rows = training_data.shape[0]\n",
    "KNN = [1,5,9,15]\n",
    "error = {}\n",
    "start_time = time.time()\n",
    "for K in KNN: \n",
    "    Y_pred = []\n",
    "    #print(\"Nearest Neighbor: \", K)\n",
    "    for i in range(rows): \n",
    "        # Predict label for each feature vector in training data\n",
    "        #print(\"Currently on row: \", i)\n",
    "        prediction = K_nearest_neighbor(training_data, training_data[i,:], K)\n",
    "        Y_pred.append(prediction)\n",
    "    # Save Error Rate for Each K\n",
    "    error[K] = calc_error(Y_pred, training_labels)\n",
    "end_time = time.time()\n",
    "print(\"Time Elapsed: \",abs(end_time - start_time))\n",
    "print(error)"
   ]
  },
  {
   "cell_type": "markdown",
   "metadata": {},
   "source": [
    "## Check if K = 3 Training Accuracy is Correct"
   ]
  },
  {
   "cell_type": "code",
   "execution_count": 12,
   "metadata": {},
   "outputs": [
    {
     "name": "stdout",
     "output_type": "stream",
     "text": [
      "0.034\n"
     ]
    }
   ],
   "source": [
    "Y_pred_train = []\n",
    "for i in range(rows): \n",
    "    # Predict label for each feature vector in training data\n",
    "    #print(\"Currently on row: \", i)\n",
    "    prediction = K_nearest_neighbor(training_data, training_data[i,:], 3)\n",
    "    Y_pred_train.append(prediction)\n",
    "    # Save Error Rate for Each K\n",
    "training_3_error = calc_error(Y_pred_train, training_labels)\n",
    "print(training_3_error)"
   ]
  },
  {
   "cell_type": "markdown",
   "metadata": {},
   "source": [
    "# Calculate Validation Error"
   ]
  },
  {
   "cell_type": "code",
   "execution_count": 13,
   "metadata": {},
   "outputs": [
    {
     "name": "stdout",
     "output_type": "stream",
     "text": [
      "Time Elapsed:  140.82688188552856\n",
      "{1: 0.082, 5: 0.097, 9: 0.1, 15: 0.102}\n"
     ]
    }
   ],
   "source": [
    "# Validation Data with K = 1,5,9,15\n",
    "rows = validation_data.shape[0]\n",
    "KNN = [1,5,9,15]\n",
    "validation_error = {}\n",
    "start_time = time.time()\n",
    "for K in KNN: \n",
    "    Y_pred = []\n",
    "    #print(\"Nearest Neighbor: \", K)\n",
    "    for i in range(rows): \n",
    "        # Predict label for each feature vector in training data\n",
    "        #print(\"Currently on row: \", i)\n",
    "        prediction = K_nearest_neighbor(training_data, validation_data[i,:], K)\n",
    "        Y_pred.append(prediction)\n",
    "    # Save Error Rate for Each K\n",
    "    validation_error[K] = calc_error(Y_pred, validation_labels)\n",
    "end_time = time.time()\n",
    "print(\"Time Elapsed: \",abs(end_time - start_time))\n",
    "print(validation_error)"
   ]
  },
  {
   "cell_type": "markdown",
   "metadata": {},
   "source": [
    "# Calculate Test Error w/ Optimal K"
   ]
  },
  {
   "cell_type": "code",
   "execution_count": 14,
   "metadata": {},
   "outputs": [
    {
     "name": "stdout",
     "output_type": "stream",
     "text": [
      "0.051\n"
     ]
    }
   ],
   "source": [
    "Y_pred_test = []\n",
    "for i in range(rows): \n",
    "    # Predict label for each feature vector in training data\n",
    "    #print(\"Currently on row: \", i)\n",
    "    prediction = K_nearest_neighbor(training_data, testing_data[i,:], 1)\n",
    "    Y_pred.append(prediction)\n",
    "    # Save Error Rate for Each K\n",
    "testing_error = calc_error(Y_pred, testing_labels)\n",
    "print(testing_error)"
   ]
  },
  {
   "cell_type": "markdown",
   "metadata": {},
   "source": [
    "# Question 2: Projection Matrix"
   ]
  },
  {
   "cell_type": "code",
   "execution_count": 15,
   "metadata": {},
   "outputs": [],
   "source": [
    "# Read text file into np array\n",
    "projection_matrix = np.loadtxt('./data/projection.txt')\n",
    "training_data = training_data[:,:training_data.shape[1]-1]\n",
    "validation_data = validation_data[:,:validation_data.shape[1]-1]\n",
    "testing_data = testing_data[:,:testing_data.shape[1]-1]"
   ]
  },
  {
   "cell_type": "code",
   "execution_count": 16,
   "metadata": {},
   "outputs": [],
   "source": [
    "# Get Projected Data in 2D Array\n",
    "proj_training = np.dot(training_data , projection_matrix)\n",
    "proj_validation = np.dot(validation_data , projection_matrix)\n",
    "proj_testing = np.dot(testing_data , projection_matrix)"
   ]
  },
  {
   "cell_type": "code",
   "execution_count": 17,
   "metadata": {
    "scrolled": true
   },
   "outputs": [],
   "source": [
    "# Reshape Label Vectors\n",
    "training_labels = training_labels.reshape(2000,1)\n",
    "testing_labels = testing_labels.reshape(1000,1)\n",
    "validation_labels = validation_labels.reshape(1000,1)"
   ]
  },
  {
   "cell_type": "code",
   "execution_count": 18,
   "metadata": {
    "scrolled": true
   },
   "outputs": [],
   "source": [
    "# Append Labels onto Projected Data\n",
    "proj_training = np.hstack((proj_training, training_labels))\n",
    "proj_testing = np.hstack((proj_testing, testing_labels))\n",
    "proj_validation = np.hstack((proj_validation, validation_labels))"
   ]
  },
  {
   "cell_type": "markdown",
   "metadata": {},
   "source": [
    "# Training Error with Projected Data"
   ]
  },
  {
   "cell_type": "code",
   "execution_count": 19,
   "metadata": {},
   "outputs": [
    {
     "name": "stdout",
     "output_type": "stream",
     "text": [
      "Time Elapsed:  300.9265892505646\n",
      "{1: 0.0, 3: 0.0785, 5: 0.1495, 9: 0.198, 15: 0.2325}\n"
     ]
    }
   ],
   "source": [
    "# Projected Training Data with K = 1,5,9,15\n",
    "rows = proj_training.shape[0]\n",
    "KNN = [1,3,5,9,15]\n",
    "error = {}\n",
    "start_time = time.time()\n",
    "for K in KNN: \n",
    "    Y_pred = []\n",
    "    #print(\"Nearest Neighbor: \", K)\n",
    "    for i in range(rows): \n",
    "        # Predict label for each feature vector in training data\n",
    "        #print(\"Currently on row: \", i)\n",
    "        prediction = K_nearest_neighbor(proj_training, proj_training[i,:], K)\n",
    "        Y_pred.append(prediction)\n",
    "    # Save Error Rate for Each K\n",
    "    error[K] = calc_error(Y_pred, training_labels)\n",
    "end_time = time.time()\n",
    "print(\"Time Elapsed: \",abs(end_time - start_time))\n",
    "print(error)"
   ]
  },
  {
   "cell_type": "markdown",
   "metadata": {},
   "source": [
    "# Validation Error with Projected Data"
   ]
  },
  {
   "cell_type": "code",
   "execution_count": 20,
   "metadata": {},
   "outputs": [
    {
     "name": "stdout",
     "output_type": "stream",
     "text": [
      "Time Elapsed:  116.72657108306885\n",
      "{1: 0.32, 5: 0.285, 9: 0.281, 15: 0.285}\n"
     ]
    }
   ],
   "source": [
    "# Validation Data with K = 1,5,9,15\n",
    "rows = proj_validation.shape[0]\n",
    "KNN = [1,5,9,15]\n",
    "proj_validation_error = {}\n",
    "start_time = time.time()\n",
    "for K in KNN: \n",
    "    Y_pred_validation = []\n",
    "    #print(\"Nearest Neighbor: \", K)\n",
    "    for i in range(rows): \n",
    "        # Predict label for each feature vector in training data\n",
    "        #print(\"Currently on row: \", i)\n",
    "        prediction = K_nearest_neighbor(proj_training, proj_validation[i,:], K)\n",
    "        Y_pred_validation.append(prediction)\n",
    "    # Save Error Rate for Each K\n",
    "    validation_error[K] = calc_error(Y_pred_validation, validation_labels)\n",
    "end_time = time.time()\n",
    "print(\"Time Elapsed: \",abs(end_time - start_time))\n",
    "print(validation_error)"
   ]
  },
  {
   "cell_type": "markdown",
   "metadata": {},
   "source": [
    "# Testing Error with Optimal K "
   ]
  },
  {
   "cell_type": "code",
   "execution_count": 21,
   "metadata": {},
   "outputs": [
    {
     "name": "stdout",
     "output_type": "stream",
     "text": [
      "0.282\n"
     ]
    }
   ],
   "source": [
    "Y_pred_test = []\n",
    "for i in range(rows): \n",
    "    # Predict label for each feature vector in training data\n",
    "    #print(\"Currently on row: \", i)\n",
    "    prediction = K_nearest_neighbor(proj_training, proj_testing[i,:], 9)\n",
    "    Y_pred_test.append(prediction)\n",
    "    # Save Error Rate for Each K\n",
    "testing_error = calc_error(Y_pred_test, testing_labels)\n",
    "print(testing_error)"
   ]
  }
 ],
 "metadata": {
  "kernelspec": {
   "display_name": "Python 3",
   "language": "python",
   "name": "python3"
  },
  "language_info": {
   "codemirror_mode": {
    "name": "ipython",
    "version": 3
   },
   "file_extension": ".py",
   "mimetype": "text/x-python",
   "name": "python",
   "nbconvert_exporter": "python",
   "pygments_lexer": "ipython3",
   "version": "3.7.0"
  }
 },
 "nbformat": 4,
 "nbformat_minor": 2
}
