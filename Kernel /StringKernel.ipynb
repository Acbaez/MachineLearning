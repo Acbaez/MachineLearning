{
 "cells": [
  {
   "cell_type": "code",
   "execution_count": 1,
   "metadata": {},
   "outputs": [],
   "source": [
    "import pandas as pd\n",
    "import numpy as np"
   ]
  },
  {
   "cell_type": "code",
   "execution_count": 6,
   "metadata": {},
   "outputs": [
    {
     "name": "stdout",
     "output_type": "stream",
     "text": [
      "[4 3 0 2 1 6 5]\n",
      "[4 3 0 2 1 6 5]\n"
     ]
    }
   ],
   "source": [
    "l ={1:0,3:0,2:0,-5:0,-8:0,6:0,4:0}\n",
    "l2 = [1,3,2,-5,-8,6,4]\n",
    "print(np.argsort(l2))\n",
    "print(np.argsort(list(l.keys())))"
   ]
  },
  {
   "cell_type": "code",
   "execution_count": 2,
   "metadata": {
    "scrolled": true
   },
   "outputs": [
    {
     "name": "stdout",
     "output_type": "stream",
     "text": [
      "(3630, 2)\n"
     ]
    }
   ],
   "source": [
    "# Read in data\n",
    "training_data = pd.read_csv('./data/pa4train.txt', sep=\" \", header=None)\n",
    "testing_data = pd.read_csv('./data/pa4test.txt', sep=\" \", header=None)\n",
    "training_data.head()\n",
    "print(training_data.shape)"
   ]
  },
  {
   "cell_type": "code",
   "execution_count": 3,
   "metadata": {},
   "outputs": [],
   "source": [
    "# Function for calculating prediction error \n",
    "def calc_error(Y_pred, Y_label): \n",
    "    # Calculate Error Rate for Predicted Labels\n",
    "    error = [0 for x,y in zip(Y_pred,Y_label) if x != y]\n",
    "    error_rate = len(error)/len(Y_pred)\n",
    "    return error_rate\n",
    "\n",
    "# Function for computing the number of common substrings of length P\n",
    "def common_substrings(S,T,p, sub_dict):\n",
    "    common_substrings = {}\n",
    "    T_string = T[0]\n",
    "    T_label = T[1]\n",
    "    for i in range((len(S) - p + 1)): \n",
    "        v = S[i:(i+p)]\n",
    "        v = str(v)\n",
    "        if v in T_string: \n",
    "            occurences_T = T_string.count(v)\n",
    "            occurences_S = S.count(v)\n",
    "            if v in sub_dict.keys(): \n",
    "                sub_dict[v] += (T_label)*(occurences_T*occurences_S)\n",
    "            else: \n",
    "                sub_dict[v] = (T_label)*(occurences_T*occurences_S)\n",
    "            if T_string not in common_substrings.keys(): \n",
    "                common_substrings[v] = occurences_T*occurences_S\n",
    "    return sum(common_substrings.values())\n",
    "\n",
    "# Function for computing the number of common substrings of length P\n",
    "def modified_substrings(S,T,p):\n",
    "    common_substrings = {}\n",
    "    for i in range((len(S) - p + 1)): \n",
    "        v = S[i:(i+p)]\n",
    "        v = str(v)\n",
    "        if v in T: \n",
    "            if T not in common_substrings.keys(): \n",
    "                common_substrings[v] = 1\n",
    "    return sum(common_substrings.values())"
   ]
  },
  {
   "cell_type": "code",
   "execution_count": 4,
   "metadata": {},
   "outputs": [],
   "source": [
    "class kernelPerceptron: \n",
    "    # Constructor\n",
    "    def __init__(self): \n",
    "        self.w = []\n",
    "        self.substrings = {}\n",
    "        \n",
    "    # Returns predicted label for sample data point\n",
    "    # W is a list where each element is a tuple (Word, label) \n",
    "    def kernel(self, sample_point, p):\n",
    "        num_common = {-1: 0, 1: 0}\n",
    "        for pair in self.w: \n",
    "            label = pair[1]\n",
    "            common_sub = common_substrings(sample_point[0], pair, p, self.substrings)\n",
    "            num_common[label] += common_sub\n",
    "        label = 1\n",
    "        if num_common[-1] > num_common[1]: \n",
    "            label = -1\n",
    "        return label\n",
    "     \n",
    "    # Modified version of string kernel\n",
    "    def modifiedKernel(self, sample_point, p): \n",
    "        num_common = {-1: 0, 1: 0} \n",
    "        for pair in self.w: \n",
    "            string = pair[0]\n",
    "            label = pair[1]\n",
    "            common_sub = modified_substrings(sample_point[0], string, p)\n",
    "            num_common[label] += common_sub\n",
    "        label = 1\n",
    "        if num_common[-1] > num_common[1]: \n",
    "            label = -1\n",
    "        return label\n",
    "    \n",
    "    # train perceptron and modify w parameter\n",
    "    def train(self, kernel_type,  training_data, p): \n",
    "        self.w = []\n",
    "        label = training_data.shape[1] - 1 \n",
    "        for index, row in training_data.iterrows(): \n",
    "            true_label = row[label]\n",
    "            if kernel_type == 'modified': \n",
    "                kernel_label = self.modifiedKernel(row ,p)\n",
    "            else: \n",
    "                kernel_label = self.kernel(row ,p)\n",
    "            if kernel_label*true_label <= 0: \n",
    "                # misclassified string, modify w\n",
    "                self.w.append((row[0], true_label))\n",
    "    \n",
    "    # Make predictions for each data point in testing data\n",
    "    def predict(self, kernel_type, test_data, p):\n",
    "        # Predict label for each data point\n",
    "        predictions = []\n",
    "        for index, row in test_data.iterrows():\n",
    "            if kernel_type == 'modified': \n",
    "                predictions.append(self.modifiedKernel(row, p))\n",
    "            else: \n",
    "                predictions.append(self.kernel(row, p))\n",
    "        return predictions"
   ]
  },
  {
   "cell_type": "markdown",
   "metadata": {},
   "source": [
    "# Question 1"
   ]
  },
  {
   "cell_type": "code",
   "execution_count": 5,
   "metadata": {},
   "outputs": [
    {
     "name": "stdout",
     "output_type": "stream",
     "text": [
      "Training Error P=3:  0.07024793388429752\n",
      "Testing Error P=3:  0.0870712401055409\n"
     ]
    }
   ],
   "source": [
    "# Tests\n",
    "clf = kernelPerceptron()\n",
    "clf.train('normal',training_data, 2)\n",
    "y_pred_train = clf.predict('normal',training_data, 2)\n",
    "y_true_train = training_data[(training_data.shape[1] - 1)]\n",
    "y_pred_test = clf.predict('normal',testing_data, 2)\n",
    "y_true_test = testing_data[(testing_data.shape[1] - 1)]\n",
    "print(\"Training Error P=2: \",calc_error(y_pred_train, y_true_train))\n",
    "print(\"Testing Error P=2: \",calc_error(y_pred_test, y_true_test))"
   ]
  },
  {
   "cell_type": "code",
   "execution_count": 14,
   "metadata": {
    "scrolled": true
   },
   "outputs": [
    {
     "name": "stdout",
     "output_type": "stream",
     "text": [
      "Training Error P=3:  0.01349862258953168\n",
      "Testing Error P=3:  0.051451187335092345\n"
     ]
    }
   ],
   "source": [
    "# Tests\n",
    "clf_p_3 = kernelPerceptron()\n",
    "clf_p_3.train('normal',training_data, 3)\n",
    "y_pred_train = clf_p_3.predict('normal',training_data, 3)\n",
    "y_true_train = training_data[(training_data.shape[1] - 1)]\n",
    "y_pred_test = clf_p_3.predict('normal',testing_data, 3)\n",
    "y_true_test = testing_data[(testing_data.shape[1] - 1)]\n",
    "print(\"Training Error P=3: \",calc_error(y_pred_train, y_true_train))\n",
    "print(\"Testing Error P=3: \",calc_error(y_pred_test, y_true_test))"
   ]
  },
  {
   "cell_type": "code",
   "execution_count": 7,
   "metadata": {},
   "outputs": [
    {
     "name": "stdout",
     "output_type": "stream",
     "text": [
      "Training Error P=4:  0.013223140495867768\n",
      "Testing Error P=4:  0.03825857519788918\n"
     ]
    }
   ],
   "source": [
    "clf_p_4 = kernelPerceptron()\n",
    "clf_p_4.train('normal',training_data, 4)\n",
    "y_pred_train = clf_p_4.predict('normal', training_data, 4)\n",
    "y_true_train = training_data[(training_data.shape[1] - 1)]\n",
    "y_pred_test = clf_p_4.predict('normal',testing_data, 4)\n",
    "y_true_test = testing_data[(testing_data.shape[1] - 1)]\n",
    "print(\"Training Error P=4: \",calc_error(y_pred_train, y_true_train))\n",
    "print(\"Testing Error P=4: \",calc_error(y_pred_test, y_true_test))"
   ]
  },
  {
   "cell_type": "code",
   "execution_count": 8,
   "metadata": {
    "scrolled": true
   },
   "outputs": [
    {
     "name": "stdout",
     "output_type": "stream",
     "text": [
      "Training Error P=5:  0.01046831955922865\n",
      "Testing Error P=5:  0.07387862796833773\n"
     ]
    }
   ],
   "source": [
    "clf_p_5 = kernelPerceptron()\n",
    "clf_p_5.train('normal',training_data, 5)\n",
    "y_pred_train = clf_p_5.predict('normal',training_data, 5)\n",
    "y_true_train = training_data[(training_data.shape[1] - 1)]\n",
    "y_pred_test = clf_p_5.predict('normal',testing_data, 5)\n",
    "y_true_test = testing_data[(testing_data.shape[1] - 1)]\n",
    "print(\"Training Error P=5: \",calc_error(y_pred_train, y_true_train))\n",
    "print(\"Testing Error P=5: \",calc_error(y_pred_test, y_true_test))"
   ]
  },
  {
   "cell_type": "markdown",
   "metadata": {},
   "source": [
    "# Question 2"
   ]
  },
  {
   "cell_type": "code",
   "execution_count": 9,
   "metadata": {},
   "outputs": [
    {
     "name": "stdout",
     "output_type": "stream",
     "text": [
      "Training Error P=3:  0.011294765840220386\n",
      "Testing Error P=3:  0.05804749340369393\n"
     ]
    }
   ],
   "source": [
    "# Tests\n",
    "clf = kernelPerceptron()\n",
    "clf.train('modified',training_data, 3)\n",
    "y_pred_train = clf.predict('modified',training_data, 3)\n",
    "y_true_train = training_data[(training_data.shape[1] - 1)]\n",
    "y_pred_test = clf.predict('modified',testing_data, 3)\n",
    "y_true_test = testing_data[(testing_data.shape[1] - 1)]\n",
    "print(\"Training Error P=3: \",calc_error(y_pred_train, y_true_train))\n",
    "print(\"Testing Error P=3: \",calc_error(y_pred_test, y_true_test))"
   ]
  },
  {
   "cell_type": "code",
   "execution_count": 10,
   "metadata": {
    "scrolled": true
   },
   "outputs": [
    {
     "name": "stdout",
     "output_type": "stream",
     "text": [
      "Training Error P=4:  0.011019283746556474\n",
      "Testing Error P=4:  0.03562005277044855\n"
     ]
    }
   ],
   "source": [
    "# Tests\n",
    "clf = kernelPerceptron()\n",
    "clf.train('modified',training_data, 4)\n",
    "y_pred_train = clf.predict('modified',training_data, 4)\n",
    "y_true_train = training_data[(training_data.shape[1] - 1)]\n",
    "y_pred_test = clf.predict('modified',testing_data, 4)\n",
    "y_true_test = testing_data[(testing_data.shape[1] - 1)]\n",
    "print(\"Training Error P=4: \",calc_error(y_pred_train, y_true_train))\n",
    "print(\"Testing Error P=4: \",calc_error(y_pred_test, y_true_test))"
   ]
  },
  {
   "cell_type": "code",
   "execution_count": 11,
   "metadata": {},
   "outputs": [
    {
     "name": "stdout",
     "output_type": "stream",
     "text": [
      "Training Error P=5:  0.01046831955922865\n",
      "Testing Error P=5:  0.07387862796833773\n"
     ]
    }
   ],
   "source": [
    "# Tests\n",
    "clf = kernelPerceptron()\n",
    "clf.train('modified',training_data, 5)\n",
    "y_pred_train = clf.predict('modified',training_data, 5)\n",
    "y_true_train = training_data[(training_data.shape[1] - 1)]\n",
    "y_pred_test = clf.predict('modified',testing_data, 5)\n",
    "y_true_test = testing_data[(testing_data.shape[1] - 1)]\n",
    "print(\"Training Error P=5: \",calc_error(y_pred_train, y_true_train))\n",
    "print(\"Testing Error P=5: \",calc_error(y_pred_test, y_true_test))"
   ]
  },
  {
   "cell_type": "markdown",
   "metadata": {},
   "source": [
    "# Question 3"
   ]
  },
  {
   "cell_type": "code",
   "execution_count": 13,
   "metadata": {},
   "outputs": [
    {
     "name": "stdout",
     "output_type": "stream",
     "text": [
      "Top 2 Substrings:  [('TAGQE', 3573), ('DTAGQ', 5065)]\n"
     ]
    }
   ],
   "source": [
    "sorted_sub = sorted(clf_p_5.substrings.items(), key=lambda x: x[1])\n",
    "print(\"Top 2 Substrings: \",sorted_sub[-2:])"
   ]
  }
 ],
 "metadata": {
  "kernelspec": {
   "display_name": "Python 3",
   "language": "python",
   "name": "python3"
  },
  "language_info": {
   "codemirror_mode": {
    "name": "ipython",
    "version": 3
   },
   "file_extension": ".py",
   "mimetype": "text/x-python",
   "name": "python",
   "nbconvert_exporter": "python",
   "pygments_lexer": "ipython3",
   "version": "3.7.0"
  }
 },
 "nbformat": 4,
 "nbformat_minor": 2
}
